{
 "cells": [
  {
   "cell_type": "markdown",
   "id": "88196828",
   "metadata": {},
   "source": [
    "# ----------------------------------- Instagram Web Scrapper -----------------------------------"
   ]
  },
  {
   "cell_type": "code",
   "execution_count": null,
   "id": "e575de13",
   "metadata": {},
   "outputs": [],
   "source": [
    "from time import sleep\n",
    "import os\n",
    "import time"
   ]
  },
  {
   "cell_type": "code",
   "execution_count": null,
   "id": "c214ff77",
   "metadata": {},
   "outputs": [],
   "source": [
    "from selenium import webdriver\n",
    "from selenium.webdriver.chrome.service import Service\n",
    "from webdriver_manager.chrome import ChromeDriverManager\n",
    "from selenium.webdriver.support.ui import WebDriverWait\n",
    "from selenium.webdriver.support import expected_conditions as EC\n",
    "from selenium.webdriver.common.by import By\n",
    "import wget"
   ]
  },
  {
   "cell_type": "markdown",
   "id": "b0703f8c",
   "metadata": {},
   "source": [
    "## Setting Username and Password"
   ]
  },
  {
   "cell_type": "code",
   "execution_count": null,
   "id": "24e45798",
   "metadata": {},
   "outputs": [],
   "source": [
    "USERNAME=\"Your Username or Email\"\n",
    "PASSWORD=\"Your_Instagram Password\""
   ]
  },
  {
   "cell_type": "markdown",
   "id": "2c51a0cb",
   "metadata": {},
   "source": [
    "## Setting the Web Driver"
   ]
  },
  {
   "cell_type": "code",
   "execution_count": null,
   "id": "9ce228bc",
   "metadata": {},
   "outputs": [],
   "source": [
    "service = Service(ChromeDriverManager().install())\n",
    "driver = webdriver.Chrome(service=service)\n",
    "\n",
    "# Now you can use the driver to interact with the browser\n",
    "driver.get('https://www.instagram.com/')"
   ]
  },
  {
   "cell_type": "code",
   "execution_count": null,
   "id": "d8bb7800",
   "metadata": {},
   "outputs": [],
   "source": [
    "sleep(1)"
   ]
  },
  {
   "cell_type": "markdown",
   "id": "913ccb45",
   "metadata": {},
   "source": [
    "### locating Username field on web browser"
   ]
  },
  {
   "cell_type": "code",
   "execution_count": null,
   "id": "babf700d",
   "metadata": {},
   "outputs": [],
   "source": [
    "username_field=WebDriverWait(driver, 10).until(EC.presence_of_element_located((By.NAME, \"username\")))\n",
    "username_field.send_keys(USERNAME)"
   ]
  },
  {
   "cell_type": "code",
   "execution_count": null,
   "id": "639d7576",
   "metadata": {},
   "outputs": [],
   "source": [
    "sleep(1)"
   ]
  },
  {
   "cell_type": "markdown",
   "id": "80b753ce",
   "metadata": {},
   "source": [
    "### locating Password field on web browser"
   ]
  },
  {
   "cell_type": "code",
   "execution_count": null,
   "id": "13032142",
   "metadata": {},
   "outputs": [],
   "source": [
    "password_field=WebDriverWait(driver, 10).until(EC.presence_of_element_located((By.NAME, \"password\")))\n",
    "password_field.send_keys(PASSWORD)"
   ]
  },
  {
   "cell_type": "code",
   "execution_count": null,
   "id": "f721e4eb",
   "metadata": {},
   "outputs": [],
   "source": [
    "sleep(1)"
   ]
  },
  {
   "cell_type": "markdown",
   "id": "74ba822f",
   "metadata": {},
   "source": [
    "### locating login button field on web browser"
   ]
  },
  {
   "cell_type": "code",
   "execution_count": null,
   "id": "f7e65ac7",
   "metadata": {},
   "outputs": [],
   "source": [
    "login_field=WebDriverWait(driver, 10).until(EC.presence_of_element_located((By.CSS_SELECTOR, '#loginForm > div > div:nth-child(3) > button')))"
   ]
  },
  {
   "cell_type": "code",
   "execution_count": null,
   "id": "9263f328",
   "metadata": {},
   "outputs": [],
   "source": [
    "login_field.click()"
   ]
  },
  {
   "cell_type": "code",
   "execution_count": null,
   "id": "006c57e6",
   "metadata": {},
   "outputs": [],
   "source": [
    "sleep(10)"
   ]
  },
  {
   "cell_type": "markdown",
   "id": "304a1176",
   "metadata": {},
   "source": [
    "### Save Info == Not Now"
   ]
  },
  {
   "cell_type": "code",
   "execution_count": null,
   "id": "b7b3bf70",
   "metadata": {},
   "outputs": [],
   "source": [
    "save_info=WebDriverWait(driver, 10).until(EC.presence_of_element_located((By.CSS_SELECTOR, 'div[role=\"button\"]')))\n",
    "save_info.click()"
   ]
  },
  {
   "cell_type": "code",
   "execution_count": null,
   "id": "3f6e73ae",
   "metadata": {},
   "outputs": [],
   "source": [
    "sleep(1)"
   ]
  },
  {
   "cell_type": "markdown",
   "id": "2923ddf2",
   "metadata": {},
   "source": [
    "### Notification == Not Now"
   ]
  },
  {
   "cell_type": "code",
   "execution_count": null,
   "id": "305d5fc5",
   "metadata": {},
   "outputs": [],
   "source": [
    "notify=WebDriverWait(driver, 10).until(EC.presence_of_element_located((By.CSS_SELECTOR, 'button[class=\"_a9-- _ap36 _a9_1\"]')))\n",
    "notify.click()"
   ]
  },
  {
   "cell_type": "code",
   "execution_count": null,
   "id": "544f8c47",
   "metadata": {},
   "outputs": [],
   "source": [
    "sleep(1)"
   ]
  },
  {
   "cell_type": "markdown",
   "id": "93650eed",
   "metadata": {},
   "source": [
    "### Set keyword = username to search"
   ]
  },
  {
   "cell_type": "code",
   "execution_count": null,
   "id": "afb6c892",
   "metadata": {},
   "outputs": [],
   "source": [
    "keyword=\"mention the user you want to scrape\""
   ]
  },
  {
   "cell_type": "markdown",
   "id": "8023504c",
   "metadata": {},
   "source": [
    "### Search Icon"
   ]
  },
  {
   "cell_type": "code",
   "execution_count": null,
   "id": "151fa3cd",
   "metadata": {},
   "outputs": [],
   "source": [
    "search_icon=WebDriverWait(driver, 10).until(EC.presence_of_element_located((By.XPATH, '//*[@id=\"mount_0_0_Zk\"]/div/div/div[2]/div/div/div[1]/div[1]/div[1]/div/div/div/div/div[2]/div[2]/span/div/a/div/div[1]/div/div/svg')))\n",
    "search_icon.click()"
   ]
  },
  {
   "cell_type": "code",
   "execution_count": null,
   "id": "ab9687c6",
   "metadata": {},
   "outputs": [],
   "source": [
    "sleep(1)"
   ]
  },
  {
   "cell_type": "markdown",
   "id": "463518d2",
   "metadata": {},
   "source": [
    "### Search"
   ]
  },
  {
   "cell_type": "code",
   "execution_count": null,
   "id": "d29cebe5",
   "metadata": {},
   "outputs": [],
   "source": [
    "search=WebDriverWait(driver, 10).until(EC.presence_of_element_located((By.XPATH, \"//input[@placeholder='Search']\")))\n",
    "search.clear()\n",
    "search.send_keys(keyword)"
   ]
  },
  {
   "cell_type": "code",
   "execution_count": null,
   "id": "17620785",
   "metadata": {},
   "outputs": [],
   "source": [
    "driver.get('https://www.instagram.com/'+keyword)"
   ]
  },
  {
   "cell_type": "code",
   "execution_count": null,
   "id": "47c8c854",
   "metadata": {},
   "outputs": [],
   "source": [
    "sleep(1)"
   ]
  },
  {
   "cell_type": "markdown",
   "id": "96ae4222",
   "metadata": {},
   "source": [
    "### Get posts, followers, following count"
   ]
  },
  {
   "cell_type": "code",
   "execution_count": null,
   "id": "f6ddafae",
   "metadata": {},
   "outputs": [],
   "source": [
    "ul=WebDriverWait(driver, 10).until(EC.presence_of_element_located((By.TAG_NAME, \"ul\")))"
   ]
  },
  {
   "cell_type": "code",
   "execution_count": null,
   "id": "d05e6c7e",
   "metadata": {},
   "outputs": [],
   "source": [
    "items=ul.find_elements(By.TAG_NAME,\"li\")\n",
    "for li in items:\n",
    "     print(li.text)"
   ]
  },
  {
   "cell_type": "markdown",
   "id": "a35d627e",
   "metadata": {},
   "source": [
    "### Get full name of the user"
   ]
  },
  {
   "cell_type": "code",
   "execution_count": null,
   "id": "88dcb1ee",
   "metadata": {},
   "outputs": [],
   "source": [
    "span=WebDriverWait(driver, 10).until(EC.presence_of_element_located((By.XPATH, '/html/body/div[2]/div/div/div[2]/div/div/div[1]/div[2]/div/div[2]/section/main/div/header/section[4]/div/div[1]/span')))"
   ]
  },
  {
   "cell_type": "code",
   "execution_count": null,
   "id": "89b7109d",
   "metadata": {},
   "outputs": [],
   "source": [
    "print(span.text)"
   ]
  },
  {
   "cell_type": "markdown",
   "id": "d32e23a9",
   "metadata": {},
   "source": [
    "### Choosing images from users account"
   ]
  },
  {
   "cell_type": "code",
   "execution_count": null,
   "id": "e60a4dc2",
   "metadata": {},
   "outputs": [],
   "source": [
    "driver.execute_script(\"window.scrollTo(0, 50000);\")\n",
    "images=driver.find_elements(By.TAG_NAME,\"img\")\n",
    "images=[image.get_attribute('src') for image in images]"
   ]
  },
  {
   "cell_type": "markdown",
   "id": "d6b6b196",
   "metadata": {},
   "source": [
    "# Save Images To Computer"
   ]
  },
  {
   "cell_type": "code",
   "execution_count": null,
   "id": "6ab2b9e5",
   "metadata": {},
   "outputs": [],
   "source": [
    "path=os.getcwd()\n",
    "path=os.path.join(path,keyword)\n",
    "os.mkdir(path)"
   ]
  },
  {
   "cell_type": "code",
   "execution_count": null,
   "id": "08992129",
   "metadata": {},
   "outputs": [],
   "source": [
    "if not os.path.exists(path):\n",
    "    os.makedirs(path)"
   ]
  },
  {
   "cell_type": "code",
   "execution_count": null,
   "id": "a2a25d74",
   "metadata": {},
   "outputs": [],
   "source": [
    "path"
   ]
  },
  {
   "cell_type": "code",
   "execution_count": null,
   "id": "1f06add0",
   "metadata": {},
   "outputs": [],
   "source": [
    "counter = 1\n",
    "for image in images:\n",
    "    if image.startswith('http'):\n",
    "        save_as = os.path.join(path, f\"{keyword}_{counter}.jpg\")\n",
    "        wget.download(image, save_as)\n",
    "        counter += 1\n",
    "        if counter == 3 and image.startswith('http'):\n",
    "            save_as = os.path.join(path, \"profile.jpg\")\n",
    "            wget.download(image, save_as)"
   ]
  },
  {
   "cell_type": "markdown",
   "id": "8cd23998",
   "metadata": {},
   "source": [
    "### Following Click"
   ]
  },
  {
   "cell_type": "code",
   "execution_count": null,
   "id": "b32b0799",
   "metadata": {},
   "outputs": [],
   "source": [
    "following=WebDriverWait(driver, 10).until(EC.presence_of_element_located((By.XPATH, '/html/body/div[2]/div/div/div[2]/div/div/div[1]/div[2]/div/div[2]/section/main/div/header/section[3]/ul/li[3]/div/a')))"
   ]
  },
  {
   "cell_type": "code",
   "execution_count": null,
   "id": "9a50dc74",
   "metadata": {},
   "outputs": [],
   "source": [
    "following.click()"
   ]
  },
  {
   "cell_type": "markdown",
   "id": "c6ad77be",
   "metadata": {},
   "source": [
    "### Printing all the followers"
   ]
  },
  {
   "cell_type": "code",
   "execution_count": null,
   "id": "93559939",
   "metadata": {},
   "outputs": [],
   "source": [
    "counter=1\n",
    "for i in range(500):\n",
    "    count=1\n",
    "    driver.execute_script(\"window.scrollTo(0, document.body.scrollHeight);\")\n",
    "    followings=driver.find_elements(By.XPATH,\"/html/body/div[6]/div[2]/div/div/div[1]/div/div[2]/div/div/div/div/div[2]/div/div/div[4]/div[1]/div/div[\"f'{counter}'\"]/div/div/div/div[2]/div/div/div/div/div/a/div/div/span\")\n",
    "    count+=1\n",
    "     \n",
    "    for following in followings:\n",
    "        print(following.text)\n",
    "        counter+=1"
   ]
  },
  {
   "cell_type": "code",
   "execution_count": null,
   "id": "e6a07cfe",
   "metadata": {},
   "outputs": [],
   "source": [
    "driver.close()"
   ]
  },
  {
   "cell_type": "code",
   "execution_count": null,
   "id": "570fa8b9",
   "metadata": {},
   "outputs": [],
   "source": []
  }
 ],
 "metadata": {
  "kernelspec": {
   "display_name": "Python 3 (ipykernel)",
   "language": "python",
   "name": "python3"
  },
  "language_info": {
   "codemirror_mode": {
    "name": "ipython",
    "version": 3
   },
   "file_extension": ".py",
   "mimetype": "text/x-python",
   "name": "python",
   "nbconvert_exporter": "python",
   "pygments_lexer": "ipython3",
   "version": "3.11.5"
  }
 },
 "nbformat": 4,
 "nbformat_minor": 5
}
